{
 "cells": [
  {
   "cell_type": "code",
   "execution_count": 21,
   "metadata": {},
   "outputs": [],
   "source": [
    "import pandas as pd"
   ]
  },
  {
   "cell_type": "code",
   "execution_count": 22,
   "metadata": {},
   "outputs": [],
   "source": [
    "educ = pd.read_csv('educ.csv')"
   ]
  },
  {
   "cell_type": "code",
   "execution_count": 23,
   "metadata": {},
   "outputs": [],
   "source": [
    "from bokeh.plotting import figure, show, output_notebook, output_file\n",
    "from bokeh.models import Slider, Button, CheckboxGroup, CustomJS, ColumnDataSource, CDSView, Label\n",
    "from bokeh.models.tools import HoverTool\n",
    "from bokeh.models.filters import CustomJSFilter\n",
    "from bokeh.models.widgets import Div\n",
    "from bokeh.layouts import row, column, Spacer\n",
    "from bokeh.resources import CDN\n",
    "from bokeh.embed import file_html, json_item\n",
    "#output_notebook()\n",
    "output_file('educ.html',mode='cdn')"
   ]
  },
  {
   "cell_type": "code",
   "execution_count": 24,
   "metadata": {},
   "outputs": [],
   "source": [
    "source = ColumnDataSource(educ)\n",
    "fields = educ.FOE.unique().tolist()\n",
    "N = len(fields)\n",
    "m = 0.06\n",
    "checkboxes = CheckboxGroup(labels=fields, active=[1,4,7,10],width=400)#,title='Broad fields of education')\n",
    "p = figure(plot_width=1200, plot_height=800,x_range=(-m,1.15+m),y_range=(-m,1+m),toolbar_location='below',\n",
    "          title='Market size against growth rate of educational disciplines')\n",
    "p.title.text_font_style='bold'\n",
    "p.title.text_font_size='16pt'\n",
    "p.min_border_right=250\n",
    "filter =  CustomJSFilter(code=\"\"\"\n",
    "let selected = checkboxes.active.map(i=>checkboxes.labels[i]);\n",
    "let indices = [];\n",
    "let column = source.data['FOE'];\n",
    "for(let i=0; i<column.length; i++){\n",
    "    if(selected.includes(column[i])){\n",
    "        indices.push(i);\n",
    "    }\n",
    "}\n",
    "return indices;\n",
    "\"\"\", args=dict(checkboxes=checkboxes, source=source))\n",
    "\n",
    "checkboxes.js_on_change(\"active\", CustomJS(code=\"source.change.emit();\", args=dict(source=source)))\n",
    "qcolor = '#DBF3FA'\n",
    "p.patch([0.5,1,1,0.75,0.75,0.5],[1,1,0.5,0.5,0.75,0.75],fill_color=qcolor,line_color=qcolor,alpha=0.8)\n",
    "r = p.rect(x='X',y='Y',width_units='screen', height_units='screen',\n",
    "           width=50,height=25, line_color='Colour',color='Colour',\n",
    "           line_width=4,line_join='bevel',fill_alpha='alpha',source=source,view=CDSView(source=source, filters=[filter]))\n",
    "scx = [0.125,0.375,0.625,0.875]*4              # x coordinates of square centres\n",
    "scy = [0.125]*4+[0.375]*4+[0.625]*4+[0.875]*4  # y coordinates of square centres\n",
    "g = p.rect(x=scx,y=scy,width_units='data', height_units='data',width=0.25,height=0.25,alpha=0)\n",
    "t = p.text(x='X',y='Y',text='DisciplineAb',text_align='center',text_baseline='middle',\n",
    "          source=source,view=CDSView(source=source, filters=[filter]))\n",
    "p.add_tools(HoverTool(tooltips='@Discipline', renderers=[r]))\n",
    "\n",
    "# The next lines make the labels below the x-axis\n",
    "x_labels = ['SIZE:','Small','Medium','Large','Very large']\n",
    "eftsl = ['EFTSL:','<5,000','5000 - 10000','10001 - 25,000','>25,000']\n",
    "lx = [0, 0.125,0.375,0.625,0.875]\n",
    "for i in range(5):\n",
    "        p.add_layout(Label(x_units='data',y_units='data',x=lx[i],y=-0.03,text=x_labels[i],\n",
    "                           text_align='center',text_font_style='bold'))\n",
    "        p.add_layout(Label(x_units='data',y_units='data',x=lx[i],y=-0.06,text=eftsl[i],\n",
    "                           text_align='center'))\n",
    "        \n",
    "# The next lines make the labels at the far right\n",
    "ly = [0.125,0.375,0.625,0.875,1]\n",
    "y_labels=['Negative','Low','Medium','High','GROWTH RATE']\n",
    "y_labels2 = ['(CAGR 0%)','(CAGR 0-2%)','(CAGR 2-5%)','(CAGR>5%)','']\n",
    "for i in range(5):\n",
    "    p.add_layout(Label(x_units='data',y_units='data',x=1.01,y=ly[i]+0.02,text=y_labels[i],\n",
    "                           text_align='left',text_font_style='bold'))\n",
    "    p.add_layout(Label(x_units='data',y_units='data',x=1.01,y=ly[i]-0.02,text=y_labels2[i],\n",
    "                           text_align='left'))\n",
    "ticks = [0,0.25,0.5,0.75,1]\n",
    "p.xaxis[0].ticker = []\n",
    "p.yaxis[0].ticker = []\n",
    "p.xgrid[0].ticker = ticks\n",
    "p.ygrid[0].ticker = ticks\n",
    "p.grid.grid_line_color='gray'\n",
    "p.line([0,0],[-m,0],line_width=3,color='white')\n",
    "\n",
    "div = Div(text=\"\"\"<h2>Broad fields of education</h2>\"\"\",width=400, height=50)\n",
    "\n",
    "div2 = Div(text=\"\"\"<font-size=\"5\">This chart shows the market sizes (measured by enrolments) and growth rates \n",
    "(measured by changes in enrolments) of a number of education disciplines.  This chart is interactive,\n",
    "which means you can decide what to display, and also by mousing over the rectangle containing the abreviation \n",
    "you can see the full name of the discipline.</font-size>\"\"\",style={'font-size':'131%'},width=400, height=500)\n",
    "\n",
    "show(row(column(div,checkboxes,Spacer(height=150),div2,width=400,height=800), p,width = 1200,height = 800,sizing_mode='fixed'))\n",
    "output_file(\"educ.html\",mode='inline')"
   ]
  },
  {
   "cell_type": "code",
   "execution_count": null,
   "metadata": {},
   "outputs": [],
   "source": []
  }
 ],
 "metadata": {
  "kernelspec": {
   "display_name": "Python 3",
   "language": "python",
   "name": "python3"
  },
  "language_info": {
   "codemirror_mode": {
    "name": "ipython",
    "version": 3
   },
   "file_extension": ".py",
   "mimetype": "text/x-python",
   "name": "python",
   "nbconvert_exporter": "python",
   "pygments_lexer": "ipython3",
   "version": "3.7.3"
  }
 },
 "nbformat": 4,
 "nbformat_minor": 2
}
